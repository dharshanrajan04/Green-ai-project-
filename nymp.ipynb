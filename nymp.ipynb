{
 "cells": [
  {
   "cell_type": "code",
   "execution_count": 10,
   "id": "77a877ff-3d82-4a92-86e9-313f743cf697",
   "metadata": {},
   "outputs": [
    {
     "name": "stdout",
     "output_type": "stream",
     "text": [
      "Requirement already satisfied: numpy in c:\\users\\student\\anaconda3\\lib\\site-packages (1.26.4)\n",
      "Note: you may need to restart the kernel to use updated packages.\n"
     ]
    }
   ],
   "source": [
    "pip install numpy\n"
   ]
  },
  {
   "cell_type": "code",
   "execution_count": 21,
   "id": "df76247c-6dff-4e2e-9963-716201112aeb",
   "metadata": {},
   "outputs": [],
   "source": [
    "import numpy as np"
   ]
  },
  {
   "cell_type": "code",
   "execution_count": 56,
   "id": "ca88be0b-4b59-48bf-b587-5715ef1f22ad",
   "metadata": {},
   "outputs": [
    {
     "name": "stdout",
     "output_type": "stream",
     "text": [
      "list [1, 2, 3]\n",
      "<class 'list'>\n",
      "number array: [1 2 3]\n",
      "<class 'numpy.ndarray'>\n"
     ]
    }
   ],
   "source": [
    "l=[1,2,3]\n",
    "print(\"list\",l)\n",
    "print(type(l))\n",
    "one_d_array = np.array(l)\n",
    "print(\"number array:\",one_d_array)\n",
    "print(type(one_d_array))"
   ]
  },
  {
   "cell_type": "code",
   "execution_count": 58,
   "id": "d45a6a79-932c-48ab-be0c-0319fd49a56d",
   "metadata": {},
   "outputs": [
    {
     "name": "stdout",
     "output_type": "stream",
     "text": [
      "list ([1, 2], [3, 4])\n",
      "<class 'tuple'>\n",
      "number array: [[1 2]\n",
      " [3 4]]\n",
      "<class 'numpy.ndarray'>\n"
     ]
    }
   ],
   "source": [
    "l=[1,2],[3,4]\n",
    "print(\"list\",l)\n",
    "print(type(l))\n",
    "two_d_array = np.array(l)\n",
    "print(\"number array:\",two_d_array)\n",
    "print(type(two_d_array))"
   ]
  },
  {
   "cell_type": "code",
   "execution_count": 60,
   "id": "d070f8b7-03ed-4fbf-a016-946d10256631",
   "metadata": {},
   "outputs": [
    {
     "name": "stdout",
     "output_type": "stream",
     "text": [
      "<class 'list'>\n",
      "[[[1 2]\n",
      "  [3 4]]\n",
      "\n",
      " [[5 6]\n",
      "  [7 8]]]\n",
      "<class 'numpy.ndarray'>\n"
     ]
    }
   ],
   "source": [
    "c=[[[1,2],[3,4]],[[5,6],[7,8]]]\n",
    "print(type(c))\n",
    "three_d_array = np.array(c)\n",
    "print(three_d_array)\n",
    "print(type(three_d_array))"
   ]
  },
  {
   "cell_type": "code",
   "execution_count": 74,
   "id": "1c24eae9-b63a-4743-9160-25ea1b888e36",
   "metadata": {},
   "outputs": [
    {
     "name": "stdout",
     "output_type": "stream",
     "text": [
      "one d array dimension 1\n",
      "one d array dimension (3,)\n",
      "one d array dimension 3\n",
      "\n",
      "\n",
      "two d array dimension 2\n",
      "two d array dimension (2, 2)\n",
      "two d array dimension 4\n",
      "\n",
      "\n",
      "three d array dimension 3\n",
      "three d array dimension (2, 2, 2)\n",
      "three d array dimension 8\n"
     ]
    }
   ],
   "source": [
    "print(\"one d array dimension\",one_d_array.ndim)\n",
    "print(\"one d array dimension\",one_d_array.shape)\n",
    "print(\"one d array dimension\",one_d_array.size)\n",
    "print(\"\\n\")\n",
    "print(\"two d array dimension\",two_d_array.ndim)\n",
    "print(\"two d array dimension\",two_d_array.shape)\n",
    "print(\"two d array dimension\",two_d_array.size)\n",
    "print(\"\\n\")\n",
    "print(\"three d array dimension\",three_d_array.ndim)\n",
    "print(\"three d array dimension\",three_d_array.shape)\n",
    "print(\"three d array dimension\",three_d_array.size)"
   ]
  },
  {
   "cell_type": "code",
   "execution_count": 80,
   "id": "4b0a6f29-f578-4dda-9005-07ea5fce7fb6",
   "metadata": {},
   "outputs": [
    {
     "name": "stdout",
     "output_type": "stream",
     "text": [
      "memory cons by an element 28\n",
      "Total Memory Usage 252\n"
     ]
    }
   ],
   "source": [
    "import sys\n",
    "sample_list = ([1,2,3,4,5,6,7,8,9])\n",
    "print(\"memory cons by an element\",sys.getsizeof(sample_list[0]))\n",
    "print(\"Total Memory Usage\",(sys.getsizeof(sample_list[0]))*len(sample_list))"
   ]
  },
  {
   "cell_type": "code",
   "execution_count": 84,
   "id": "78521df7-daf7-4f16-9749-cff9c24dae68",
   "metadata": {},
   "outputs": [
    {
     "name": "stdout",
     "output_type": "stream",
     "text": [
      "memory cons by an element 4\n",
      "Total Memory Usage 40\n"
     ]
    }
   ],
   "source": [
    "numpy_array=np.array([0,1,2,3,4,5,6,7,8,9])\n",
    "sample_list = ([1,2,3,4,5,6,7,8,9])\n",
    "print(\"memory cons by an element\", numpy_array.itemsize)\n",
    "print(\"Total Memory Usage\",numpy_array.itemsize*numpy_array.size)"
   ]
  },
  {
   "cell_type": "code",
   "execution_count": null,
   "id": "8fb1dd89-14c9-4046-8549-edda6258ca45",
   "metadata": {},
   "outputs": [],
   "source": []
  }
 ],
 "metadata": {
  "kernelspec": {
   "display_name": "Python [conda env:base] *",
   "language": "python",
   "name": "conda-base-py"
  },
  "language_info": {
   "codemirror_mode": {
    "name": "ipython",
    "version": 3
   },
   "file_extension": ".py",
   "mimetype": "text/x-python",
   "name": "python",
   "nbconvert_exporter": "python",
   "pygments_lexer": "ipython3",
   "version": "3.12.7"
  }
 },
 "nbformat": 4,
 "nbformat_minor": 5
}
