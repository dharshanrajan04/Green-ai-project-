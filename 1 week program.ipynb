{
 "cells": [
  {
   "cell_type": "code",
   "execution_count": 1,
   "id": "3d345455-0131-4163-bbaa-d7afe3ce78a6",
   "metadata": {},
   "outputs": [
    {
     "name": "stdin",
     "output_type": "stream",
     "text": [
      " 2\n"
     ]
    },
    {
     "name": "stdout",
     "output_type": "stream",
     "text": [
      "even number\n"
     ]
    }
   ],
   "source": [
    "#even or odd\n",
    "a=int(input())\n",
    "if a %2==0:\n",
    "    print(\"even number\")\n",
    "else:\n",
    "    print(\"odd number\")"
   ]
  },
  {
   "cell_type": "code",
   "execution_count": 2,
   "id": "94a162de-8b7a-430a-934c-a98fb860a554",
   "metadata": {},
   "outputs": [
    {
     "name": "stdin",
     "output_type": "stream",
     "text": [
      "enter a number 1234\n"
     ]
    },
    {
     "name": "stdout",
     "output_type": "stream",
     "text": [
      "products of digits: 10\n"
     ]
    }
   ],
   "source": [
    "#sum of the digits\n",
    "n=int(input(\"enter a number\"))\n",
    "s=0\n",
    "while(n>0):\n",
    "    digit=n%10\n",
    "    s=s+digit\n",
    "    n=n//10\n",
    "print(\"products of digits:\",s)\n"
   ]
  },
  {
   "cell_type": "code",
   "execution_count": 3,
   "id": "30c9dcf1-b0df-4dd6-b564-cf832709ae85",
   "metadata": {
    "scrolled": true
   },
   "outputs": [
    {
     "name": "stdin",
     "output_type": "stream",
     "text": [
      "enter a number 1234\n"
     ]
    },
    {
     "name": "stdout",
     "output_type": "stream",
     "text": [
      "products of digits: 24\n"
     ]
    }
   ],
   "source": [
    "#product of digit using while loop\n",
    "n=int(input(\"enter a number\"))\n",
    "p=1\n",
    "while(n>0):\n",
    "    digit=n%10\n",
    "    p=p*digit\n",
    "    n=n//10\n",
    "print(\"products of digits:\",p)"
   ]
  },
  {
   "cell_type": "code",
   "execution_count": 4,
   "id": "8c76776a-9465-46db-bab2-20e5ac895ee1",
   "metadata": {},
   "outputs": [
    {
     "name": "stdin",
     "output_type": "stream",
     "text": [
      "enter a number 1234\n"
     ]
    },
    {
     "name": "stdout",
     "output_type": "stream",
     "text": [
      "24\n"
     ]
    }
   ],
   "source": [
    "#product of digit using for lop\n",
    "num=(input(\"enter a number\"))\n",
    "p=1\n",
    "for i in num: \n",
    "    p=p*int(i)\n",
    "print(p)"
   ]
  },
  {
   "cell_type": "code",
   "execution_count": 5,
   "id": "4b68f55a-ccc4-4269-8355-c41c6ca52d11",
   "metadata": {},
   "outputs": [
    {
     "name": "stdout",
     "output_type": "stream",
     "text": [
      "sum 625\n"
     ]
    }
   ],
   "source": [
    "#find the sum of all odd numbers between 1 and 50 using for loop\n",
    "s=0\n",
    "for i in range(1,50, 2):\n",
    "    s=s+i\n",
    "print(\"sum\",s)"
   ]
  },
  {
   "cell_type": "code",
   "execution_count": 6,
   "id": "400b169a-d59e-458c-9cb5-59810c9590be",
   "metadata": {},
   "outputs": [
    {
     "name": "stdout",
     "output_type": "stream",
     "text": [
      "sum 600\n"
     ]
    }
   ],
   "source": [
    "#find the sum of all even numbers between 1 and 50 using for loop\n",
    "s=0\n",
    "for i in range(0,50, 2):\n",
    "    s=s+i\n",
    "print(\"sum\",s)"
   ]
  },
  {
   "cell_type": "code",
   "execution_count": 7,
   "id": "d92a68ca-e1d7-4022-8f80-f15acb7f4835",
   "metadata": {
    "scrolled": true
   },
   "outputs": [
    {
     "name": "stdout",
     "output_type": "stream",
     "text": [
      "sum 600\n"
     ]
    }
   ],
   "source": [
    "#find the sum of all even numbers between 1 and 50 using for loop\n",
    "s=0\n",
    "for i in range(1,50,):\n",
    "    if i%2==0:\n",
    "        s+=i\n",
    "print(\"sum\",s)"
   ]
  },
  {
   "cell_type": "code",
   "execution_count": 8,
   "id": "8adc5ad7-1d58-4358-adda-7b4e66876b83",
   "metadata": {},
   "outputs": [
    {
     "name": "stdin",
     "output_type": "stream",
     "text": [
      "enter the number 1234\n"
     ]
    },
    {
     "name": "stdout",
     "output_type": "stream",
     "text": [
      "sum 760761\n"
     ]
    }
   ],
   "source": [
    "#find the sum of n natural numbers\n",
    "n=int(input(\"enter the number\"))\n",
    "s=0\n",
    "for i in range(0,n):\n",
    "    s=s+i\n",
    "print(\"sum\",s)\n",
    "      "
   ]
  },
  {
   "cell_type": "code",
   "execution_count": 23,
   "id": "57005282-f7f3-4cef-95bd-e33bec94f162",
   "metadata": {},
   "outputs": [
    {
     "name": "stdin",
     "output_type": "stream",
     "text": [
      "enter the number 9897654321\n"
     ]
    },
    {
     "name": "stdout",
     "output_type": "stream",
     "text": [
      "1234567989\n"
     ]
    }
   ],
   "source": [
    "n=int(input(\"enter the number\"))\n",
    "rev=0\n",
    "while(n>0):\n",
    "    r=n%10\n",
    "    rev=rev*10+r\n",
    "    n=n//10\n",
    "print(rev)"
   ]
  },
  {
   "cell_type": "code",
   "execution_count": 19,
   "id": "7ccf6bb5-0c11-45b4-81ec-7f2479d22b8f",
   "metadata": {},
   "outputs": [
    {
     "name": "stdin",
     "output_type": "stream",
     "text": [
      "enter the number 5\n"
     ]
    },
    {
     "name": "stdout",
     "output_type": "stream",
     "text": [
      "120\n"
     ]
    }
   ],
   "source": [
    "#write a python progrm to find the factorial of given number\n",
    "num=int(input(\"enter the number\"))\n",
    "factorial=1 \n",
    "\n",
    "for i in range(1,num+1):\n",
    "    factorial*=i\n",
    "    \n",
    "print(factorial)"
   ]
  },
  {
   "cell_type": "code",
   "execution_count": null,
   "id": "d4d36618-5d68-47c5-af80-e14ed63c1536",
   "metadata": {},
   "outputs": [],
   "source": [
    "#write a python program list of factors of a number\n",
    "num=int(input(\"enter a number\"))\n",
    "factor_list=[]\n",
    "for i in range(1,n+1):\n",
    "    if n%1==0:\n",
    "        factor_list.append(i)\n",
    "        print(factor(n))"
   ]
  },
  {
   "cell_type": "code",
   "execution_count": null,
   "id": "d53ac4c7-e954-4315-a007-79ff8fe228c4",
   "metadata": {},
   "outputs": [],
   "source": [
    "def factors(n):\n",
    "factor_list=[]\n",
    "for i in range(1,n+1):\n",
    "    if n%1==0:\n",
    "        factor_list.append(i)\n",
    "        return(factor list\n",
    "        num=int(input(\"enter a number\"))\n",
    "        print(factor(n))"
   ]
  },
  {
   "cell_type": "code",
   "execution_count": null,
   "id": "7839c76b-20e6-43cf-9e83-9b45b73e5420",
   "metadata": {},
   "outputs": [],
   "source": [
    "def factors(n):\n",
    "factor_list=[]\n",
    "for i in range(1,n+1):\n",
    "    if n%1==0:\n",
    "        factor_list.append(i)\n",
    "        return(factor list\n",
    "        num=int(input(\"enter a number\"))\n",
    "        print(factor(n))"
   ]
  },
  {
   "cell_type": "markdown",
   "id": "487778ce-af2d-4b34-8ad8-7af9566802e9",
   "metadata": {},
   "source": [
    "24*3\n"
   ]
  },
  {
   "cell_type": "code",
   "execution_count": null,
   "id": "1f353b97-4f9b-4303-a831-65be97656e9b",
   "metadata": {},
   "outputs": [],
   "source": []
  }
 ],
 "metadata": {
  "kernelspec": {
   "display_name": "Python [conda env:base] *",
   "language": "python",
   "name": "conda-base-py"
  },
  "language_info": {
   "codemirror_mode": {
    "name": "ipython",
    "version": 3
   },
   "file_extension": ".py",
   "mimetype": "text/x-python",
   "name": "python",
   "nbconvert_exporter": "python",
   "pygments_lexer": "ipython3",
   "version": "3.12.7"
  }
 },
 "nbformat": 4,
 "nbformat_minor": 5
}
