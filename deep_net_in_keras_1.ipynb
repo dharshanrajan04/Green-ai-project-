{
 "cells": [
  {
   "cell_type": "markdown",
   "metadata": {},
   "source": [
    "# Deep Neural Network in Keras _1"
   ]
  },
  {
   "cell_type": "markdown",
   "metadata": {},
   "source": [
    "[![Open In Colab](https://colab.research.google.com/assets/colab-badge.svg)](https://colab.research.google.com/github/suniltt/fdp2021/blob/main/deep_neural_network/deep_net_in_keras_1.ipynb)"
   ]
  },
  {
   "cell_type": "markdown",
   "metadata": {},
   "source": [
    "#### Load dependencies"
   ]
  },
  {
   "cell_type": "code",
   "execution_count": 13,
   "metadata": {},
   "outputs": [
    {
     "name": "stdout",
     "output_type": "stream",
     "text": [
      "Collecting keras\n",
      "  Downloading keras-3.8.0-py3-none-any.whl.metadata (5.8 kB)\n",
      "Collecting absl-py (from keras)\n",
      "  Downloading absl_py-2.1.0-py3-none-any.whl.metadata (2.3 kB)\n",
      "Requirement already satisfied: numpy in c:\\users\\student\\anaconda3\\lib\\site-packages (from keras) (1.26.4)\n",
      "Requirement already satisfied: rich in c:\\users\\student\\anaconda3\\lib\\site-packages (from keras) (13.7.1)\n",
      "Collecting namex (from keras)\n",
      "  Downloading namex-0.0.8-py3-none-any.whl.metadata (246 bytes)\n",
      "Requirement already satisfied: h5py in c:\\users\\student\\anaconda3\\lib\\site-packages (from keras) (3.11.0)\n",
      "Collecting optree (from keras)\n",
      "  Downloading optree-0.14.0-cp312-cp312-win_amd64.whl.metadata (48 kB)\n",
      "Collecting ml-dtypes (from keras)\n",
      "  Downloading ml_dtypes-0.5.1-cp312-cp312-win_amd64.whl.metadata (22 kB)\n",
      "Requirement already satisfied: packaging in c:\\users\\student\\anaconda3\\lib\\site-packages (from keras) (24.1)\n",
      "Requirement already satisfied: typing-extensions>=4.5.0 in c:\\users\\student\\anaconda3\\lib\\site-packages (from optree->keras) (4.11.0)\n",
      "Requirement already satisfied: markdown-it-py>=2.2.0 in c:\\users\\student\\anaconda3\\lib\\site-packages (from rich->keras) (2.2.0)\n",
      "Requirement already satisfied: pygments<3.0.0,>=2.13.0 in c:\\users\\student\\anaconda3\\lib\\site-packages (from rich->keras) (2.15.1)\n",
      "Requirement already satisfied: mdurl~=0.1 in c:\\users\\student\\anaconda3\\lib\\site-packages (from markdown-it-py>=2.2.0->rich->keras) (0.1.0)\n",
      "Downloading keras-3.8.0-py3-none-any.whl (1.3 MB)\n",
      "   ---------------------------------------- 0.0/1.3 MB ? eta -:--:--\n",
      "   ---------------------------------------- 1.3/1.3 MB 9.5 MB/s eta 0:00:00\n",
      "Downloading absl_py-2.1.0-py3-none-any.whl (133 kB)\n",
      "Downloading ml_dtypes-0.5.1-cp312-cp312-win_amd64.whl (210 kB)\n",
      "Downloading namex-0.0.8-py3-none-any.whl (5.8 kB)\n",
      "Downloading optree-0.14.0-cp312-cp312-win_amd64.whl (299 kB)\n",
      "Installing collected packages: namex, optree, ml-dtypes, absl-py, keras\n",
      "Successfully installed absl-py-2.1.0 keras-3.8.0 ml-dtypes-0.5.1 namex-0.0.8 optree-0.14.0\n",
      "Collecting tensorflow\n",
      "  Downloading tensorflow-2.18.0-cp312-cp312-win_amd64.whl.metadata (3.3 kB)\n",
      "Collecting tensorflow-intel==2.18.0 (from tensorflow)\n",
      "  Downloading tensorflow_intel-2.18.0-cp312-cp312-win_amd64.whl.metadata (4.9 kB)\n",
      "Requirement already satisfied: absl-py>=1.0.0 in c:\\users\\student\\anaconda3\\lib\\site-packages (from tensorflow-intel==2.18.0->tensorflow) (2.1.0)\n",
      "Collecting astunparse>=1.6.0 (from tensorflow-intel==2.18.0->tensorflow)\n",
      "  Downloading astunparse-1.6.3-py2.py3-none-any.whl.metadata (4.4 kB)\n",
      "Collecting flatbuffers>=24.3.25 (from tensorflow-intel==2.18.0->tensorflow)\n",
      "  Downloading flatbuffers-25.1.24-py2.py3-none-any.whl.metadata (875 bytes)\n",
      "Collecting gast!=0.5.0,!=0.5.1,!=0.5.2,>=0.2.1 (from tensorflow-intel==2.18.0->tensorflow)\n",
      "  Downloading gast-0.6.0-py3-none-any.whl.metadata (1.3 kB)\n",
      "Collecting google-pasta>=0.1.1 (from tensorflow-intel==2.18.0->tensorflow)\n",
      "  Downloading google_pasta-0.2.0-py3-none-any.whl.metadata (814 bytes)\n",
      "Collecting libclang>=13.0.0 (from tensorflow-intel==2.18.0->tensorflow)\n",
      "  Downloading libclang-18.1.1-py2.py3-none-win_amd64.whl.metadata (5.3 kB)\n",
      "Collecting opt-einsum>=2.3.2 (from tensorflow-intel==2.18.0->tensorflow)\n",
      "  Downloading opt_einsum-3.4.0-py3-none-any.whl.metadata (6.3 kB)\n",
      "Requirement already satisfied: packaging in c:\\users\\student\\anaconda3\\lib\\site-packages (from tensorflow-intel==2.18.0->tensorflow) (24.1)\n",
      "Requirement already satisfied: protobuf!=4.21.0,!=4.21.1,!=4.21.2,!=4.21.3,!=4.21.4,!=4.21.5,<6.0.0dev,>=3.20.3 in c:\\users\\student\\anaconda3\\lib\\site-packages (from tensorflow-intel==2.18.0->tensorflow) (4.25.3)\n",
      "Requirement already satisfied: requests<3,>=2.21.0 in c:\\users\\student\\anaconda3\\lib\\site-packages (from tensorflow-intel==2.18.0->tensorflow) (2.32.3)\n",
      "Requirement already satisfied: setuptools in c:\\users\\student\\anaconda3\\lib\\site-packages (from tensorflow-intel==2.18.0->tensorflow) (75.1.0)\n",
      "Requirement already satisfied: six>=1.12.0 in c:\\users\\student\\anaconda3\\lib\\site-packages (from tensorflow-intel==2.18.0->tensorflow) (1.16.0)\n",
      "Collecting termcolor>=1.1.0 (from tensorflow-intel==2.18.0->tensorflow)\n",
      "  Downloading termcolor-2.5.0-py3-none-any.whl.metadata (6.1 kB)\n",
      "Requirement already satisfied: typing-extensions>=3.6.6 in c:\\users\\student\\anaconda3\\lib\\site-packages (from tensorflow-intel==2.18.0->tensorflow) (4.11.0)\n",
      "Requirement already satisfied: wrapt>=1.11.0 in c:\\users\\student\\anaconda3\\lib\\site-packages (from tensorflow-intel==2.18.0->tensorflow) (1.14.1)\n",
      "Collecting grpcio<2.0,>=1.24.3 (from tensorflow-intel==2.18.0->tensorflow)\n",
      "  Downloading grpcio-1.70.0-cp312-cp312-win_amd64.whl.metadata (4.0 kB)\n",
      "Collecting tensorboard<2.19,>=2.18 (from tensorflow-intel==2.18.0->tensorflow)\n",
      "  Downloading tensorboard-2.18.0-py3-none-any.whl.metadata (1.6 kB)\n",
      "Requirement already satisfied: keras>=3.5.0 in c:\\users\\student\\anaconda3\\lib\\site-packages (from tensorflow-intel==2.18.0->tensorflow) (3.8.0)\n",
      "Requirement already satisfied: numpy<2.1.0,>=1.26.0 in c:\\users\\student\\anaconda3\\lib\\site-packages (from tensorflow-intel==2.18.0->tensorflow) (1.26.4)\n",
      "Requirement already satisfied: h5py>=3.11.0 in c:\\users\\student\\anaconda3\\lib\\site-packages (from tensorflow-intel==2.18.0->tensorflow) (3.11.0)\n",
      "Collecting ml-dtypes<0.5.0,>=0.4.0 (from tensorflow-intel==2.18.0->tensorflow)\n",
      "  Downloading ml_dtypes-0.4.1-cp312-cp312-win_amd64.whl.metadata (20 kB)\n",
      "Requirement already satisfied: wheel<1.0,>=0.23.0 in c:\\users\\student\\anaconda3\\lib\\site-packages (from astunparse>=1.6.0->tensorflow-intel==2.18.0->tensorflow) (0.44.0)\n",
      "Requirement already satisfied: rich in c:\\users\\student\\anaconda3\\lib\\site-packages (from keras>=3.5.0->tensorflow-intel==2.18.0->tensorflow) (13.7.1)\n",
      "Requirement already satisfied: namex in c:\\users\\student\\anaconda3\\lib\\site-packages (from keras>=3.5.0->tensorflow-intel==2.18.0->tensorflow) (0.0.8)\n",
      "Requirement already satisfied: optree in c:\\users\\student\\anaconda3\\lib\\site-packages (from keras>=3.5.0->tensorflow-intel==2.18.0->tensorflow) (0.14.0)\n",
      "Requirement already satisfied: charset-normalizer<4,>=2 in c:\\users\\student\\anaconda3\\lib\\site-packages (from requests<3,>=2.21.0->tensorflow-intel==2.18.0->tensorflow) (3.3.2)\n",
      "Requirement already satisfied: idna<4,>=2.5 in c:\\users\\student\\anaconda3\\lib\\site-packages (from requests<3,>=2.21.0->tensorflow-intel==2.18.0->tensorflow) (3.7)\n",
      "Requirement already satisfied: urllib3<3,>=1.21.1 in c:\\users\\student\\anaconda3\\lib\\site-packages (from requests<3,>=2.21.0->tensorflow-intel==2.18.0->tensorflow) (2.2.3)\n",
      "Requirement already satisfied: certifi>=2017.4.17 in c:\\users\\student\\anaconda3\\lib\\site-packages (from requests<3,>=2.21.0->tensorflow-intel==2.18.0->tensorflow) (2024.12.14)\n",
      "Requirement already satisfied: markdown>=2.6.8 in c:\\users\\student\\anaconda3\\lib\\site-packages (from tensorboard<2.19,>=2.18->tensorflow-intel==2.18.0->tensorflow) (3.4.1)\n",
      "Collecting tensorboard-data-server<0.8.0,>=0.7.0 (from tensorboard<2.19,>=2.18->tensorflow-intel==2.18.0->tensorflow)\n",
      "  Downloading tensorboard_data_server-0.7.2-py3-none-any.whl.metadata (1.1 kB)\n",
      "Requirement already satisfied: werkzeug>=1.0.1 in c:\\users\\student\\anaconda3\\lib\\site-packages (from tensorboard<2.19,>=2.18->tensorflow-intel==2.18.0->tensorflow) (3.0.3)\n",
      "Requirement already satisfied: MarkupSafe>=2.1.1 in c:\\users\\student\\anaconda3\\lib\\site-packages (from werkzeug>=1.0.1->tensorboard<2.19,>=2.18->tensorflow-intel==2.18.0->tensorflow) (2.1.3)\n",
      "Requirement already satisfied: markdown-it-py>=2.2.0 in c:\\users\\student\\anaconda3\\lib\\site-packages (from rich->keras>=3.5.0->tensorflow-intel==2.18.0->tensorflow) (2.2.0)\n",
      "Requirement already satisfied: pygments<3.0.0,>=2.13.0 in c:\\users\\student\\anaconda3\\lib\\site-packages (from rich->keras>=3.5.0->tensorflow-intel==2.18.0->tensorflow) (2.15.1)\n",
      "Requirement already satisfied: mdurl~=0.1 in c:\\users\\student\\anaconda3\\lib\\site-packages (from markdown-it-py>=2.2.0->rich->keras>=3.5.0->tensorflow-intel==2.18.0->tensorflow) (0.1.0)\n",
      "Downloading tensorflow-2.18.0-cp312-cp312-win_amd64.whl (7.5 kB)\n",
      "Downloading tensorflow_intel-2.18.0-cp312-cp312-win_amd64.whl (390.3 MB)\n",
      "   ---------------------------------------- 0.0/390.3 MB ? eta -:--:--\n",
      "   ---------------------------------------- 2.1/390.3 MB 11.7 MB/s eta 0:00:34\n",
      "   ---------------------------------------- 4.5/390.3 MB 11.7 MB/s eta 0:00:34\n",
      "    --------------------------------------- 6.8/390.3 MB 11.6 MB/s eta 0:00:33\n",
      "    --------------------------------------- 9.2/390.3 MB 11.6 MB/s eta 0:00:33\n",
      "   - -------------------------------------- 11.5/390.3 MB 11.6 MB/s eta 0:00:33\n",
      "   - -------------------------------------- 14.2/390.3 MB 11.7 MB/s eta 0:00:33\n",
      "   - -------------------------------------- 16.5/390.3 MB 11.7 MB/s eta 0:00:32\n",
      "   - -------------------------------------- 18.9/390.3 MB 11.7 MB/s eta 0:00:32\n",
      "   -- ------------------------------------- 21.5/390.3 MB 11.7 MB/s eta 0:00:32\n",
      "   -- ------------------------------------- 23.9/390.3 MB 11.7 MB/s eta 0:00:32\n",
      "   -- ------------------------------------- 26.2/390.3 MB 11.7 MB/s eta 0:00:32\n",
      "   -- ------------------------------------- 28.6/390.3 MB 11.7 MB/s eta 0:00:31\n",
      "   --- ------------------------------------ 31.2/390.3 MB 11.6 MB/s eta 0:00:31\n",
      "   --- ------------------------------------ 33.6/390.3 MB 11.7 MB/s eta 0:00:31\n",
      "   --- ------------------------------------ 35.9/390.3 MB 11.6 MB/s eta 0:00:31\n",
      "   --- ------------------------------------ 38.3/390.3 MB 11.6 MB/s eta 0:00:31\n",
      "   ---- ----------------------------------- 40.9/390.3 MB 11.7 MB/s eta 0:00:30\n",
      "   ---- ----------------------------------- 43.3/390.3 MB 11.6 MB/s eta 0:00:30\n",
      "   ---- ----------------------------------- 45.6/390.3 MB 11.6 MB/s eta 0:00:30\n",
      "   ---- ----------------------------------- 47.7/390.3 MB 11.5 MB/s eta 0:00:30\n",
      "   ----- ---------------------------------- 50.3/390.3 MB 11.5 MB/s eta 0:00:30\n",
      "   ----- ---------------------------------- 52.2/390.3 MB 11.5 MB/s eta 0:00:30\n",
      "   ----- ---------------------------------- 53.5/390.3 MB 11.2 MB/s eta 0:00:30\n",
      "   ----- ---------------------------------- 55.1/390.3 MB 11.1 MB/s eta 0:00:31\n",
      "   ----- ---------------------------------- 56.6/390.3 MB 10.9 MB/s eta 0:00:31\n",
      "   ----- ---------------------------------- 58.2/390.3 MB 10.8 MB/s eta 0:00:31\n",
      "   ------ --------------------------------- 59.8/390.3 MB 10.7 MB/s eta 0:00:31\n",
      "   ------ --------------------------------- 61.1/390.3 MB 10.5 MB/s eta 0:00:32\n",
      "   ------ --------------------------------- 62.4/390.3 MB 10.4 MB/s eta 0:00:32\n",
      "   ------ --------------------------------- 63.4/390.3 MB 10.3 MB/s eta 0:00:32\n",
      "   ------ --------------------------------- 64.5/390.3 MB 10.0 MB/s eta 0:00:33\n",
      "   ------ --------------------------------- 65.5/390.3 MB 9.9 MB/s eta 0:00:33\n",
      "   ------ --------------------------------- 66.8/390.3 MB 9.8 MB/s eta 0:00:34\n",
      "   ------ --------------------------------- 68.2/390.3 MB 9.7 MB/s eta 0:00:34\n",
      "   ------- -------------------------------- 69.2/390.3 MB 9.5 MB/s eta 0:00:34\n",
      "   ------- -------------------------------- 70.0/390.3 MB 9.4 MB/s eta 0:00:35\n",
      "   ------- -------------------------------- 71.0/390.3 MB 9.2 MB/s eta 0:00:35\n",
      "   ------- -------------------------------- 72.4/390.3 MB 9.1 MB/s eta 0:00:35\n",
      "   ------- -------------------------------- 73.4/390.3 MB 9.1 MB/s eta 0:00:35\n",
      "   ------- -------------------------------- 74.7/390.3 MB 9.0 MB/s eta 0:00:36\n",
      "   ------- -------------------------------- 76.3/390.3 MB 8.9 MB/s eta 0:00:36\n",
      "   ------- -------------------------------- 77.9/390.3 MB 8.9 MB/s eta 0:00:36\n",
      "   -------- ------------------------------- 79.4/390.3 MB 8.9 MB/s eta 0:00:36\n",
      "   -------- ------------------------------- 81.3/390.3 MB 8.9 MB/s eta 0:00:35\n",
      "   -------- ------------------------------- 83.1/390.3 MB 8.9 MB/s eta 0:00:35\n",
      "   -------- ------------------------------- 85.2/390.3 MB 8.9 MB/s eta 0:00:35\n",
      "   -------- ------------------------------- 87.3/390.3 MB 8.9 MB/s eta 0:00:34\n",
      "   --------- ------------------------------ 89.7/390.3 MB 9.0 MB/s eta 0:00:34\n",
      "   --------- ------------------------------ 91.8/390.3 MB 9.0 MB/s eta 0:00:34\n",
      "   --------- ------------------------------ 93.3/390.3 MB 9.0 MB/s eta 0:00:34\n",
      "   --------- ------------------------------ 94.6/390.3 MB 8.9 MB/s eta 0:00:34\n",
      "   --------- ------------------------------ 95.7/390.3 MB 8.8 MB/s eta 0:00:34\n",
      "   --------- ------------------------------ 96.7/390.3 MB 8.8 MB/s eta 0:00:34\n",
      "   ---------- ----------------------------- 97.8/390.3 MB 8.7 MB/s eta 0:00:34\n",
      "   ---------- ----------------------------- 99.1/390.3 MB 8.7 MB/s eta 0:00:34\n",
      "   ---------- ----------------------------- 99.6/390.3 MB 8.6 MB/s eta 0:00:34\n",
      "   ---------- ----------------------------- 100.4/390.3 MB 8.5 MB/s eta 0:00:35\n",
      "   ---------- ----------------------------- 100.9/390.3 MB 8.4 MB/s eta 0:00:35\n",
      "   ---------- ----------------------------- 101.7/390.3 MB 8.3 MB/s eta 0:00:35\n",
      "   ---------- ----------------------------- 102.5/390.3 MB 8.2 MB/s eta 0:00:36\n",
      "   ---------- ----------------------------- 103.3/390.3 MB 8.1 MB/s eta 0:00:36\n",
      "   ---------- ----------------------------- 104.1/390.3 MB 8.1 MB/s eta 0:00:36\n",
      "   ---------- ----------------------------- 104.9/390.3 MB 8.0 MB/s eta 0:00:36\n",
      "   ---------- ----------------------------- 105.9/390.3 MB 7.9 MB/s eta 0:00:36\n",
      "   ---------- ----------------------------- 107.0/390.3 MB 7.9 MB/s eta 0:00:36\n",
      "   ----------- ---------------------------- 108.0/390.3 MB 7.9 MB/s eta 0:00:36\n",
      "   ----------- ---------------------------- 109.3/390.3 MB 7.8 MB/s eta 0:00:36\n",
      "   ----------- ---------------------------- 110.6/390.3 MB 7.8 MB/s eta 0:00:36\n",
      "   ----------- ---------------------------- 112.2/390.3 MB 7.8 MB/s eta 0:00:36\n",
      "   ----------- ---------------------------- 114.0/390.3 MB 7.8 MB/s eta 0:00:36\n",
      "   ----------- ---------------------------- 115.6/390.3 MB 7.8 MB/s eta 0:00:36\n",
      "   ------------ --------------------------- 117.4/390.3 MB 7.8 MB/s eta 0:00:35\n",
      "   ------------ --------------------------- 118.8/390.3 MB 7.8 MB/s eta 0:00:35\n",
      "   ------------ --------------------------- 119.8/390.3 MB 7.8 MB/s eta 0:00:35\n",
      "   ------------ --------------------------- 121.1/390.3 MB 7.7 MB/s eta 0:00:35\n",
      "   ------------ --------------------------- 122.2/390.3 MB 7.7 MB/s eta 0:00:35\n",
      "   ------------ --------------------------- 123.5/390.3 MB 7.7 MB/s eta 0:00:35\n",
      "   ------------ --------------------------- 125.0/390.3 MB 7.7 MB/s eta 0:00:35\n",
      "   ------------ --------------------------- 126.6/390.3 MB 7.7 MB/s eta 0:00:35\n",
      "   ------------- -------------------------- 128.5/390.3 MB 7.7 MB/s eta 0:00:35\n",
      "   ------------- -------------------------- 130.3/390.3 MB 7.7 MB/s eta 0:00:34\n",
      "   ------------- -------------------------- 132.1/390.3 MB 7.7 MB/s eta 0:00:34\n",
      "   ------------- -------------------------- 134.2/390.3 MB 7.7 MB/s eta 0:00:34\n",
      "   ------------- -------------------------- 136.3/390.3 MB 7.8 MB/s eta 0:00:33\n",
      "   -------------- ------------------------- 138.4/390.3 MB 7.8 MB/s eta 0:00:33\n",
      "   -------------- ------------------------- 140.2/390.3 MB 7.8 MB/s eta 0:00:33\n",
      "   -------------- ------------------------- 141.6/390.3 MB 7.8 MB/s eta 0:00:33\n",
      "   -------------- ------------------------- 144.2/390.3 MB 7.8 MB/s eta 0:00:32\n",
      "   -------------- ------------------------- 146.0/390.3 MB 7.8 MB/s eta 0:00:32\n",
      "   --------------- ------------------------ 147.8/390.3 MB 7.9 MB/s eta 0:00:31\n",
      "   --------------- ------------------------ 149.4/390.3 MB 7.9 MB/s eta 0:00:31\n",
      "   --------------- ------------------------ 151.0/390.3 MB 7.8 MB/s eta 0:00:31\n",
      "   --------------- ------------------------ 152.8/390.3 MB 7.9 MB/s eta 0:00:31\n",
      "   --------------- ------------------------ 154.7/390.3 MB 7.9 MB/s eta 0:00:30\n",
      "   ---------------- ----------------------- 156.8/390.3 MB 7.9 MB/s eta 0:00:30\n",
      "   ---------------- ----------------------- 158.9/390.3 MB 7.9 MB/s eta 0:00:30\n",
      "   ---------------- ----------------------- 161.0/390.3 MB 7.9 MB/s eta 0:00:29\n",
      "   ---------------- ----------------------- 163.3/390.3 MB 8.0 MB/s eta 0:00:29\n",
      "   ---------------- ----------------------- 165.7/390.3 MB 8.0 MB/s eta 0:00:29\n",
      "   ----------------- ---------------------- 168.0/390.3 MB 8.0 MB/s eta 0:00:28\n",
      "   ----------------- ---------------------- 170.4/390.3 MB 8.1 MB/s eta 0:00:28\n",
      "   ----------------- ---------------------- 172.8/390.3 MB 8.1 MB/s eta 0:00:27\n",
      "   ----------------- ---------------------- 174.6/390.3 MB 8.1 MB/s eta 0:00:27\n",
      "   ------------------ --------------------- 176.2/390.3 MB 8.1 MB/s eta 0:00:27\n",
      "   ------------------ --------------------- 178.0/390.3 MB 8.1 MB/s eta 0:00:27\n",
      "   ------------------ --------------------- 179.8/390.3 MB 8.1 MB/s eta 0:00:27\n",
      "   ------------------ --------------------- 181.4/390.3 MB 8.1 MB/s eta 0:00:26\n",
      "   ------------------ --------------------- 183.2/390.3 MB 8.1 MB/s eta 0:00:26\n",
      "   ------------------ --------------------- 185.3/390.3 MB 8.1 MB/s eta 0:00:26\n",
      "   ------------------- -------------------- 187.4/390.3 MB 8.1 MB/s eta 0:00:25\n",
      "   ------------------- -------------------- 189.5/390.3 MB 8.1 MB/s eta 0:00:25\n",
      "   ------------------- -------------------- 191.9/390.3 MB 8.2 MB/s eta 0:00:25\n",
      "   ------------------- -------------------- 194.2/390.3 MB 8.2 MB/s eta 0:00:24\n",
      "   -------------------- ------------------- 196.9/390.3 MB 8.2 MB/s eta 0:00:24\n",
      "   -------------------- ------------------- 199.2/390.3 MB 8.3 MB/s eta 0:00:24\n",
      "   -------------------- ------------------- 201.6/390.3 MB 8.3 MB/s eta 0:00:23\n",
      "   -------------------- ------------------- 203.9/390.3 MB 8.3 MB/s eta 0:00:23\n",
      "   --------------------- ------------------ 206.3/390.3 MB 8.3 MB/s eta 0:00:23\n",
      "   --------------------- ------------------ 208.9/390.3 MB 8.4 MB/s eta 0:00:22\n",
      "   --------------------- ------------------ 211.3/390.3 MB 8.4 MB/s eta 0:00:22\n",
      "   --------------------- ------------------ 213.6/390.3 MB 8.4 MB/s eta 0:00:21\n",
      "   ---------------------- ----------------- 216.0/390.3 MB 8.4 MB/s eta 0:00:21\n",
      "   ---------------------- ----------------- 218.4/390.3 MB 8.5 MB/s eta 0:00:21\n",
      "   ---------------------- ----------------- 220.7/390.3 MB 8.5 MB/s eta 0:00:20\n",
      "   ---------------------- ----------------- 222.8/390.3 MB 8.5 MB/s eta 0:00:20\n",
      "   ----------------------- ---------------- 224.9/390.3 MB 8.5 MB/s eta 0:00:20\n",
      "   ----------------------- ---------------- 227.0/390.3 MB 8.5 MB/s eta 0:00:20\n",
      "   ----------------------- ---------------- 228.6/390.3 MB 8.5 MB/s eta 0:00:19\n",
      "   ----------------------- ---------------- 230.2/390.3 MB 8.5 MB/s eta 0:00:19\n",
      "   ----------------------- ---------------- 232.0/390.3 MB 8.5 MB/s eta 0:00:19\n",
      "   ----------------------- ---------------- 233.8/390.3 MB 8.5 MB/s eta 0:00:19\n",
      "   ------------------------ --------------- 235.7/390.3 MB 8.5 MB/s eta 0:00:19\n",
      "   ------------------------ --------------- 236.7/390.3 MB 8.5 MB/s eta 0:00:19\n",
      "   ------------------------ --------------- 238.3/390.3 MB 8.5 MB/s eta 0:00:18\n",
      "   ------------------------ --------------- 239.9/390.3 MB 8.5 MB/s eta 0:00:18\n",
      "   ------------------------ --------------- 241.2/390.3 MB 8.4 MB/s eta 0:00:18\n",
      "   ------------------------ --------------- 242.5/390.3 MB 8.4 MB/s eta 0:00:18\n",
      "   ------------------------ --------------- 243.8/390.3 MB 8.4 MB/s eta 0:00:18\n",
      "   ------------------------- -------------- 245.4/390.3 MB 8.4 MB/s eta 0:00:18\n",
      "   ------------------------- -------------- 246.9/390.3 MB 8.4 MB/s eta 0:00:18\n",
      "   ------------------------- -------------- 248.5/390.3 MB 8.4 MB/s eta 0:00:17\n",
      "   ------------------------- -------------- 250.3/390.3 MB 8.4 MB/s eta 0:00:17\n",
      "   ------------------------- -------------- 252.2/390.3 MB 8.4 MB/s eta 0:00:17\n",
      "   -------------------------- ------------- 254.3/390.3 MB 8.4 MB/s eta 0:00:17\n",
      "   -------------------------- ------------- 256.4/390.3 MB 8.4 MB/s eta 0:00:16\n",
      "   -------------------------- ------------- 258.5/390.3 MB 8.4 MB/s eta 0:00:16\n",
      "   -------------------------- ------------- 260.8/390.3 MB 8.4 MB/s eta 0:00:16\n",
      "   -------------------------- ------------- 263.2/390.3 MB 8.4 MB/s eta 0:00:16\n",
      "   --------------------------- ------------ 265.3/390.3 MB 8.4 MB/s eta 0:00:15\n",
      "   --------------------------- ------------ 267.1/390.3 MB 8.3 MB/s eta 0:00:15\n",
      "   --------------------------- ------------ 269.2/390.3 MB 8.3 MB/s eta 0:00:15\n",
      "   --------------------------- ------------ 270.5/390.3 MB 8.3 MB/s eta 0:00:15\n",
      "   --------------------------- ------------ 272.1/390.3 MB 8.3 MB/s eta 0:00:15\n",
      "   ---------------------------- ----------- 273.7/390.3 MB 8.2 MB/s eta 0:00:15\n",
      "   ---------------------------- ----------- 275.3/390.3 MB 8.2 MB/s eta 0:00:15\n",
      "   ---------------------------- ----------- 276.3/390.3 MB 8.2 MB/s eta 0:00:14\n",
      "   ---------------------------- ----------- 277.3/390.3 MB 8.1 MB/s eta 0:00:14\n",
      "   ---------------------------- ----------- 278.7/390.3 MB 8.1 MB/s eta 0:00:14\n",
      "   ---------------------------- ----------- 279.7/390.3 MB 8.0 MB/s eta 0:00:14\n",
      "   ---------------------------- ----------- 281.3/390.3 MB 8.0 MB/s eta 0:00:14\n",
      "   ---------------------------- ----------- 282.6/390.3 MB 8.0 MB/s eta 0:00:14\n",
      "   ----------------------------- ---------- 284.4/390.3 MB 7.9 MB/s eta 0:00:14\n",
      "   ----------------------------- ---------- 286.3/390.3 MB 7.9 MB/s eta 0:00:14\n",
      "   ----------------------------- ---------- 288.1/390.3 MB 7.9 MB/s eta 0:00:13\n",
      "   ----------------------------- ---------- 289.9/390.3 MB 7.9 MB/s eta 0:00:13\n",
      "   ----------------------------- ---------- 291.8/390.3 MB 7.9 MB/s eta 0:00:13\n",
      "   ------------------------------ --------- 293.9/390.3 MB 7.9 MB/s eta 0:00:13\n",
      "   ------------------------------ --------- 296.2/390.3 MB 8.0 MB/s eta 0:00:12\n",
      "   ------------------------------ --------- 298.1/390.3 MB 8.0 MB/s eta 0:00:12\n",
      "   ------------------------------ --------- 299.9/390.3 MB 8.0 MB/s eta 0:00:12\n",
      "   ------------------------------ --------- 301.5/390.3 MB 8.0 MB/s eta 0:00:12\n",
      "   ------------------------------- -------- 303.6/390.3 MB 8.0 MB/s eta 0:00:11\n",
      "   ------------------------------- -------- 305.4/390.3 MB 8.1 MB/s eta 0:00:11\n",
      "   ------------------------------- -------- 307.8/390.3 MB 8.1 MB/s eta 0:00:11\n",
      "   ------------------------------- -------- 309.9/390.3 MB 8.1 MB/s eta 0:00:10\n",
      "   ------------------------------- -------- 312.0/390.3 MB 8.2 MB/s eta 0:00:10\n",
      "   -------------------------------- ------- 313.5/390.3 MB 8.2 MB/s eta 0:00:10\n",
      "   -------------------------------- ------- 315.6/390.3 MB 8.2 MB/s eta 0:00:10\n",
      "   -------------------------------- ------- 317.5/390.3 MB 8.2 MB/s eta 0:00:09\n",
      "   -------------------------------- ------- 319.0/390.3 MB 8.3 MB/s eta 0:00:09\n",
      "   -------------------------------- ------- 320.1/390.3 MB 8.3 MB/s eta 0:00:09\n",
      "   -------------------------------- ------- 320.9/390.3 MB 8.2 MB/s eta 0:00:09\n",
      "   -------------------------------- ------- 321.7/390.3 MB 8.2 MB/s eta 0:00:09\n",
      "   --------------------------------- ------ 322.4/390.3 MB 8.2 MB/s eta 0:00:09\n",
      "   --------------------------------- ------ 323.2/390.3 MB 8.2 MB/s eta 0:00:09\n",
      "   --------------------------------- ------ 324.3/390.3 MB 8.1 MB/s eta 0:00:09\n",
      "   --------------------------------- ------ 325.6/390.3 MB 8.1 MB/s eta 0:00:08\n",
      "   --------------------------------- ------ 326.9/390.3 MB 8.1 MB/s eta 0:00:08\n",
      "   --------------------------------- ------ 327.9/390.3 MB 8.0 MB/s eta 0:00:08\n",
      "   --------------------------------- ------ 329.0/390.3 MB 8.0 MB/s eta 0:00:08\n",
      "   --------------------------------- ------ 330.0/390.3 MB 8.0 MB/s eta 0:00:08\n",
      "   --------------------------------- ------ 331.4/390.3 MB 7.9 MB/s eta 0:00:08\n",
      "   ---------------------------------- ----- 332.9/390.3 MB 8.0 MB/s eta 0:00:08\n",
      "   ---------------------------------- ----- 334.2/390.3 MB 8.0 MB/s eta 0:00:08\n",
      "   ---------------------------------- ----- 335.8/390.3 MB 8.0 MB/s eta 0:00:07\n",
      "   ---------------------------------- ----- 337.4/390.3 MB 8.0 MB/s eta 0:00:07\n",
      "   ---------------------------------- ----- 339.2/390.3 MB 8.0 MB/s eta 0:00:07\n",
      "   ---------------------------------- ----- 341.0/390.3 MB 8.1 MB/s eta 0:00:07\n",
      "   ----------------------------------- ---- 342.1/390.3 MB 8.1 MB/s eta 0:00:06\n",
      "   ----------------------------------- ---- 342.9/390.3 MB 8.1 MB/s eta 0:00:06\n",
      "   ----------------------------------- ---- 343.9/390.3 MB 8.1 MB/s eta 0:00:06\n",
      "   ----------------------------------- ---- 345.0/390.3 MB 8.1 MB/s eta 0:00:06\n",
      "   ----------------------------------- ---- 345.8/390.3 MB 8.1 MB/s eta 0:00:06\n",
      "   ----------------------------------- ---- 346.8/390.3 MB 8.1 MB/s eta 0:00:06\n",
      "   ----------------------------------- ---- 347.9/390.3 MB 8.1 MB/s eta 0:00:06\n",
      "   ----------------------------------- ---- 348.9/390.3 MB 8.1 MB/s eta 0:00:06\n",
      "   ----------------------------------- ---- 349.7/390.3 MB 8.1 MB/s eta 0:00:06\n",
      "   ----------------------------------- ---- 350.7/390.3 MB 8.1 MB/s eta 0:00:05\n",
      "   ------------------------------------ --- 351.8/390.3 MB 8.1 MB/s eta 0:00:05\n",
      "   ------------------------------------ --- 352.8/390.3 MB 8.1 MB/s eta 0:00:05\n",
      "   ------------------------------------ --- 354.2/390.3 MB 8.1 MB/s eta 0:00:05\n",
      "   ------------------------------------ --- 355.5/390.3 MB 8.0 MB/s eta 0:00:05\n",
      "   ------------------------------------ --- 357.0/390.3 MB 8.0 MB/s eta 0:00:05\n",
      "   ------------------------------------ --- 358.6/390.3 MB 8.0 MB/s eta 0:00:04\n",
      "   ------------------------------------ --- 360.4/390.3 MB 8.0 MB/s eta 0:00:04\n",
      "   ------------------------------------- -- 361.8/390.3 MB 8.1 MB/s eta 0:00:04\n",
      "   ------------------------------------- -- 363.1/390.3 MB 8.1 MB/s eta 0:00:04\n",
      "   ------------------------------------- -- 364.6/390.3 MB 8.1 MB/s eta 0:00:04\n",
      "   ------------------------------------- -- 366.0/390.3 MB 8.1 MB/s eta 0:00:04\n",
      "   ------------------------------------- -- 367.0/390.3 MB 8.1 MB/s eta 0:00:03\n",
      "   ------------------------------------- -- 367.8/390.3 MB 8.0 MB/s eta 0:00:03\n",
      "   ------------------------------------- -- 368.8/390.3 MB 8.0 MB/s eta 0:00:03\n",
      "   ------------------------------------- -- 369.9/390.3 MB 8.0 MB/s eta 0:00:03\n",
      "   ------------------------------------- -- 370.4/390.3 MB 7.9 MB/s eta 0:00:03\n",
      "   -------------------------------------- - 371.2/390.3 MB 7.9 MB/s eta 0:00:03\n",
      "   -------------------------------------- - 372.0/390.3 MB 7.9 MB/s eta 0:00:03\n",
      "   -------------------------------------- - 372.8/390.3 MB 7.8 MB/s eta 0:00:03\n",
      "   -------------------------------------- - 373.8/390.3 MB 7.8 MB/s eta 0:00:03\n",
      "   -------------------------------------- - 375.1/390.3 MB 7.7 MB/s eta 0:00:02\n",
      "   -------------------------------------- - 376.2/390.3 MB 7.7 MB/s eta 0:00:02\n",
      "   -------------------------------------- - 377.5/390.3 MB 7.7 MB/s eta 0:00:02\n",
      "   -------------------------------------- - 378.5/390.3 MB 7.7 MB/s eta 0:00:02\n",
      "   -------------------------------------- - 379.8/390.3 MB 7.6 MB/s eta 0:00:02\n",
      "   ---------------------------------------  381.2/390.3 MB 7.6 MB/s eta 0:00:02\n",
      "   ---------------------------------------  382.7/390.3 MB 7.6 MB/s eta 0:00:01\n",
      "   ---------------------------------------  384.0/390.3 MB 7.6 MB/s eta 0:00:01\n",
      "   ---------------------------------------  385.4/390.3 MB 7.6 MB/s eta 0:00:01\n",
      "   ---------------------------------------  386.7/390.3 MB 7.6 MB/s eta 0:00:01\n",
      "   ---------------------------------------  388.0/390.3 MB 7.5 MB/s eta 0:00:01\n",
      "   ---------------------------------------  389.5/390.3 MB 7.5 MB/s eta 0:00:01\n",
      "   ---------------------------------------  390.1/390.3 MB 7.5 MB/s eta 0:00:01\n",
      "   ---------------------------------------  390.1/390.3 MB 7.5 MB/s eta 0:00:01\n",
      "   ---------------------------------------  390.1/390.3 MB 7.5 MB/s eta 0:00:01\n",
      "   ---------------------------------------  390.1/390.3 MB 7.5 MB/s eta 0:00:01\n",
      "   ---------------------------------------  390.1/390.3 MB 7.5 MB/s eta 0:00:01\n",
      "   ---------------------------------------  390.1/390.3 MB 7.5 MB/s eta 0:00:01\n",
      "   ---------------------------------------- 390.3/390.3 MB 7.1 MB/s eta 0:00:00\n",
      "Downloading astunparse-1.6.3-py2.py3-none-any.whl (12 kB)\n",
      "Downloading flatbuffers-25.1.24-py2.py3-none-any.whl (30 kB)\n",
      "Downloading gast-0.6.0-py3-none-any.whl (21 kB)\n",
      "Downloading google_pasta-0.2.0-py3-none-any.whl (57 kB)\n",
      "Downloading grpcio-1.70.0-cp312-cp312-win_amd64.whl (4.3 MB)\n",
      "   ---------------------------------------- 0.0/4.3 MB ? eta -:--:--\n",
      "   --------- ------------------------------ 1.0/4.3 MB 5.0 MB/s eta 0:00:01\n",
      "   ------------------- -------------------- 2.1/4.3 MB 5.6 MB/s eta 0:00:01\n",
      "   ------------------------------- -------- 3.4/4.3 MB 5.9 MB/s eta 0:00:01\n",
      "   ---------------------------------------- 4.3/4.3 MB 5.9 MB/s eta 0:00:00\n",
      "Downloading libclang-18.1.1-py2.py3-none-win_amd64.whl (26.4 MB)\n",
      "   ---------------------------------------- 0.0/26.4 MB ? eta -:--:--\n",
      "   - -------------------------------------- 1.3/26.4 MB 6.7 MB/s eta 0:00:04\n",
      "   ---- ----------------------------------- 2.9/26.4 MB 7.3 MB/s eta 0:00:04\n",
      "   ------ --------------------------------- 4.5/26.4 MB 7.5 MB/s eta 0:00:03\n",
      "   --------- ------------------------------ 6.3/26.4 MB 7.9 MB/s eta 0:00:03\n",
      "   ------------ --------------------------- 8.1/26.4 MB 8.1 MB/s eta 0:00:03\n",
      "   --------------- ------------------------ 10.2/26.4 MB 8.4 MB/s eta 0:00:02\n",
      "   ------------------ --------------------- 12.3/26.4 MB 8.7 MB/s eta 0:00:02\n",
      "   ---------------------- ----------------- 14.7/26.4 MB 9.0 MB/s eta 0:00:02\n",
      "   ------------------------- -------------- 17.0/26.4 MB 9.2 MB/s eta 0:00:02\n",
      "   ----------------------------- ---------- 19.4/26.4 MB 9.5 MB/s eta 0:00:01\n",
      "   ------------------------------- -------- 21.0/26.4 MB 9.3 MB/s eta 0:00:01\n",
      "   --------------------------------- ------ 22.0/26.4 MB 8.9 MB/s eta 0:00:01\n",
      "   ---------------------------------- ----- 23.1/26.4 MB 8.6 MB/s eta 0:00:01\n",
      "   ------------------------------------ --- 24.1/26.4 MB 8.4 MB/s eta 0:00:01\n",
      "   -------------------------------------- - 25.4/26.4 MB 8.2 MB/s eta 0:00:01\n",
      "   ---------------------------------------  26.2/26.4 MB 8.1 MB/s eta 0:00:01\n",
      "   ---------------------------------------- 26.4/26.4 MB 7.9 MB/s eta 0:00:00\n",
      "Downloading ml_dtypes-0.4.1-cp312-cp312-win_amd64.whl (127 kB)\n",
      "Downloading opt_einsum-3.4.0-py3-none-any.whl (71 kB)\n",
      "Downloading tensorboard-2.18.0-py3-none-any.whl (5.5 MB)\n",
      "   ---------------------------------------- 0.0/5.5 MB ? eta -:--:--\n",
      "   --------- ------------------------------ 1.3/5.5 MB 6.7 MB/s eta 0:00:01\n",
      "   -------------------- ------------------- 2.9/5.5 MB 7.3 MB/s eta 0:00:01\n",
      "   -------------------------------- ------- 4.5/5.5 MB 7.5 MB/s eta 0:00:01\n",
      "   ---------------------------------------- 5.5/5.5 MB 7.3 MB/s eta 0:00:00\n",
      "Downloading termcolor-2.5.0-py3-none-any.whl (7.8 kB)\n",
      "Downloading tensorboard_data_server-0.7.2-py3-none-any.whl (2.4 kB)\n",
      "Installing collected packages: libclang, flatbuffers, termcolor, tensorboard-data-server, opt-einsum, ml-dtypes, grpcio, google-pasta, gast, astunparse, tensorboard, tensorflow-intel, tensorflow\n",
      "  Attempting uninstall: ml-dtypes\n",
      "    Found existing installation: ml_dtypes 0.5.1\n",
      "    Uninstalling ml_dtypes-0.5.1:\n",
      "      Successfully uninstalled ml_dtypes-0.5.1\n",
      "Successfully installed astunparse-1.6.3 flatbuffers-25.1.24 gast-0.6.0 google-pasta-0.2.0 grpcio-1.70.0 libclang-18.1.1 ml-dtypes-0.4.1 opt-einsum-3.4.0 tensorboard-2.18.0 tensorboard-data-server-0.7.2 tensorflow-2.18.0 tensorflow-intel-2.18.0 termcolor-2.5.0\n"
     ]
    }
   ],
   "source": [
    "!pip install keras\n",
    "!pip install tensorflow"
   ]
  },
  {
   "cell_type": "code",
   "execution_count": 14,
   "metadata": {},
   "outputs": [],
   "source": [
    "import keras\n",
    "from keras.datasets import mnist\n",
    "from keras.models import Sequential\n",
    "from keras.layers import Dense\n",
    "\n",
    "from tensorflow.keras.optimizers import SGD    #optimizer\n",
    "import matplotlib as plt\n",
    "import tensorflow as tf\n"
   ]
  },
  {
   "cell_type": "markdown",
   "metadata": {},
   "source": [
    "#### Load data"
   ]
  },
  {
   "cell_type": "code",
   "execution_count": 16,
   "metadata": {},
   "outputs": [
    {
     "name": "stdout",
     "output_type": "stream",
     "text": [
      "Downloading data from https://storage.googleapis.com/tensorflow/tf-keras-datasets/mnist.npz\n",
      "\u001b[1m11490434/11490434\u001b[0m \u001b[32m━━━━━━━━━━━━━━━━━━━━\u001b[0m\u001b[37m\u001b[0m \u001b[1m2s\u001b[0m 0us/step\n"
     ]
    }
   ],
   "source": [
    "(X_train, y_train), (X_valid, y_valid) = mnist.load_data()"
   ]
  },
  {
   "cell_type": "markdown",
   "metadata": {},
   "source": [
    "#### Preprocess data"
   ]
  },
  {
   "cell_type": "code",
   "execution_count": 18,
   "metadata": {},
   "outputs": [],
   "source": [
    "X_train = X_train.reshape(60000, 784).astype('float32')\n",
    "X_valid = X_valid.reshape(10000, 784).astype('float32')"
   ]
  },
  {
   "cell_type": "code",
   "execution_count": 19,
   "metadata": {},
   "outputs": [],
   "source": [
    "X_train /= 255\n",
    "X_valid /= 255"
   ]
  },
  {
   "cell_type": "code",
   "execution_count": 20,
   "metadata": {},
   "outputs": [],
   "source": [
    "n_classes = 10\n",
    "# y_train = keras.utils.to_categorical(y_train, n_classes)\n",
    "# y_valid = keras.utils.to_categorical(y_valid, n_classes)\n",
    "\n",
    "# y_train =keras.utils.np_utils.to_categorical (y_train, n_classes)\n",
    "# y_valid= keras.utils.np_utils.to_categorical(y_valid, n_classes)\n",
    "from keras.utils import to_categorical\n",
    "\n",
    "y_train = to_categorical(y_train, n_classes)\n",
    "y_valid = to_categorical(y_valid, n_classes)\n",
    "\n",
    " "
   ]
  },
  {
   "cell_type": "code",
   "execution_count": 21,
   "metadata": {},
   "outputs": [
    {
     "name": "stdout",
     "output_type": "stream",
     "text": [
      "Collecting np_utils\n",
      "  Downloading np_utils-0.6.0.tar.gz (61 kB)\n",
      "  Preparing metadata (setup.py): started\n",
      "  Preparing metadata (setup.py): finished with status 'done'\n",
      "Requirement already satisfied: numpy>=1.0 in c:\\users\\student\\anaconda3\\lib\\site-packages (from np_utils) (1.26.4)\n",
      "Building wheels for collected packages: np_utils\n",
      "  Building wheel for np_utils (setup.py): started\n",
      "  Building wheel for np_utils (setup.py): finished with status 'done'\n",
      "  Created wheel for np_utils: filename=np_utils-0.6.0-py3-none-any.whl size=56447 sha256=787852a7ddf49c1ff84c186b6833f2652466406f50d264101d8d9915ae165be1\n",
      "  Stored in directory: c:\\users\\student\\appdata\\local\\pip\\cache\\wheels\\dd\\bd\\f5\\0975fe5179dfa2f996b436596b159824432fb3c1ca74bcf43e\n",
      "Successfully built np_utils\n",
      "Installing collected packages: np_utils\n",
      "Successfully installed np_utils-0.6.0\n",
      "Note: you may need to restart the kernel to use updated packages.\n"
     ]
    }
   ],
   "source": [
    "pip install np_utils"
   ]
  },
  {
   "cell_type": "markdown",
   "metadata": {},
   "source": [
    "#### Design neural network architecture"
   ]
  },
  {
   "cell_type": "code",
   "execution_count": 23,
   "metadata": {},
   "outputs": [
    {
     "name": "stderr",
     "output_type": "stream",
     "text": [
      "C:\\Users\\Student\\anaconda3\\Lib\\site-packages\\keras\\src\\layers\\core\\dense.py:87: UserWarning: Do not pass an `input_shape`/`input_dim` argument to a layer. When using Sequential models, prefer using an `Input(shape)` object as the first layer in the model instead.\n",
      "  super().__init__(activity_regularizer=activity_regularizer, **kwargs)\n"
     ]
    }
   ],
   "source": [
    "model = Sequential()\n",
    "model.add(Dense(64, activation='relu', input_shape=(784,)))\n",
    "model.add(Dense(64, activation='relu'))\n",
    "model.add(Dense(10, activation='softmax'))"
   ]
  },
  {
   "cell_type": "code",
   "execution_count": 24,
   "metadata": {},
   "outputs": [
    {
     "data": {
      "text/html": [
       "<pre style=\"white-space:pre;overflow-x:auto;line-height:normal;font-family:Menlo,'DejaVu Sans Mono',consolas,'Courier New',monospace\"><span style=\"font-weight: bold\">Model: \"sequential\"</span>\n",
       "</pre>\n"
      ],
      "text/plain": [
       "\u001b[1mModel: \"sequential\"\u001b[0m\n"
      ]
     },
     "metadata": {},
     "output_type": "display_data"
    },
    {
     "data": {
      "text/html": [
       "<pre style=\"white-space:pre;overflow-x:auto;line-height:normal;font-family:Menlo,'DejaVu Sans Mono',consolas,'Courier New',monospace\">┏━━━━━━━━━━━━━━━━━━━━━━━━━━━━━━━━━━━━━━┳━━━━━━━━━━━━━━━━━━━━━━━━━━━━━┳━━━━━━━━━━━━━━━━━┓\n",
       "┃<span style=\"font-weight: bold\"> Layer (type)                         </span>┃<span style=\"font-weight: bold\"> Output Shape                </span>┃<span style=\"font-weight: bold\">         Param # </span>┃\n",
       "┡━━━━━━━━━━━━━━━━━━━━━━━━━━━━━━━━━━━━━━╇━━━━━━━━━━━━━━━━━━━━━━━━━━━━━╇━━━━━━━━━━━━━━━━━┩\n",
       "│ dense (<span style=\"color: #0087ff; text-decoration-color: #0087ff\">Dense</span>)                        │ (<span style=\"color: #00d7ff; text-decoration-color: #00d7ff\">None</span>, <span style=\"color: #00af00; text-decoration-color: #00af00\">64</span>)                  │          <span style=\"color: #00af00; text-decoration-color: #00af00\">50,240</span> │\n",
       "├──────────────────────────────────────┼─────────────────────────────┼─────────────────┤\n",
       "│ dense_1 (<span style=\"color: #0087ff; text-decoration-color: #0087ff\">Dense</span>)                      │ (<span style=\"color: #00d7ff; text-decoration-color: #00d7ff\">None</span>, <span style=\"color: #00af00; text-decoration-color: #00af00\">64</span>)                  │           <span style=\"color: #00af00; text-decoration-color: #00af00\">4,160</span> │\n",
       "├──────────────────────────────────────┼─────────────────────────────┼─────────────────┤\n",
       "│ dense_2 (<span style=\"color: #0087ff; text-decoration-color: #0087ff\">Dense</span>)                      │ (<span style=\"color: #00d7ff; text-decoration-color: #00d7ff\">None</span>, <span style=\"color: #00af00; text-decoration-color: #00af00\">10</span>)                  │             <span style=\"color: #00af00; text-decoration-color: #00af00\">650</span> │\n",
       "└──────────────────────────────────────┴─────────────────────────────┴─────────────────┘\n",
       "</pre>\n"
      ],
      "text/plain": [
       "┏━━━━━━━━━━━━━━━━━━━━━━━━━━━━━━━━━━━━━━┳━━━━━━━━━━━━━━━━━━━━━━━━━━━━━┳━━━━━━━━━━━━━━━━━┓\n",
       "┃\u001b[1m \u001b[0m\u001b[1mLayer (type)                        \u001b[0m\u001b[1m \u001b[0m┃\u001b[1m \u001b[0m\u001b[1mOutput Shape               \u001b[0m\u001b[1m \u001b[0m┃\u001b[1m \u001b[0m\u001b[1m        Param #\u001b[0m\u001b[1m \u001b[0m┃\n",
       "┡━━━━━━━━━━━━━━━━━━━━━━━━━━━━━━━━━━━━━━╇━━━━━━━━━━━━━━━━━━━━━━━━━━━━━╇━━━━━━━━━━━━━━━━━┩\n",
       "│ dense (\u001b[38;5;33mDense\u001b[0m)                        │ (\u001b[38;5;45mNone\u001b[0m, \u001b[38;5;34m64\u001b[0m)                  │          \u001b[38;5;34m50,240\u001b[0m │\n",
       "├──────────────────────────────────────┼─────────────────────────────┼─────────────────┤\n",
       "│ dense_1 (\u001b[38;5;33mDense\u001b[0m)                      │ (\u001b[38;5;45mNone\u001b[0m, \u001b[38;5;34m64\u001b[0m)                  │           \u001b[38;5;34m4,160\u001b[0m │\n",
       "├──────────────────────────────────────┼─────────────────────────────┼─────────────────┤\n",
       "│ dense_2 (\u001b[38;5;33mDense\u001b[0m)                      │ (\u001b[38;5;45mNone\u001b[0m, \u001b[38;5;34m10\u001b[0m)                  │             \u001b[38;5;34m650\u001b[0m │\n",
       "└──────────────────────────────────────┴─────────────────────────────┴─────────────────┘\n"
      ]
     },
     "metadata": {},
     "output_type": "display_data"
    },
    {
     "data": {
      "text/html": [
       "<pre style=\"white-space:pre;overflow-x:auto;line-height:normal;font-family:Menlo,'DejaVu Sans Mono',consolas,'Courier New',monospace\"><span style=\"font-weight: bold\"> Total params: </span><span style=\"color: #00af00; text-decoration-color: #00af00\">55,050</span> (215.04 KB)\n",
       "</pre>\n"
      ],
      "text/plain": [
       "\u001b[1m Total params: \u001b[0m\u001b[38;5;34m55,050\u001b[0m (215.04 KB)\n"
      ]
     },
     "metadata": {},
     "output_type": "display_data"
    },
    {
     "data": {
      "text/html": [
       "<pre style=\"white-space:pre;overflow-x:auto;line-height:normal;font-family:Menlo,'DejaVu Sans Mono',consolas,'Courier New',monospace\"><span style=\"font-weight: bold\"> Trainable params: </span><span style=\"color: #00af00; text-decoration-color: #00af00\">55,050</span> (215.04 KB)\n",
       "</pre>\n"
      ],
      "text/plain": [
       "\u001b[1m Trainable params: \u001b[0m\u001b[38;5;34m55,050\u001b[0m (215.04 KB)\n"
      ]
     },
     "metadata": {},
     "output_type": "display_data"
    },
    {
     "data": {
      "text/html": [
       "<pre style=\"white-space:pre;overflow-x:auto;line-height:normal;font-family:Menlo,'DejaVu Sans Mono',consolas,'Courier New',monospace\"><span style=\"font-weight: bold\"> Non-trainable params: </span><span style=\"color: #00af00; text-decoration-color: #00af00\">0</span> (0.00 B)\n",
       "</pre>\n"
      ],
      "text/plain": [
       "\u001b[1m Non-trainable params: \u001b[0m\u001b[38;5;34m0\u001b[0m (0.00 B)\n"
      ]
     },
     "metadata": {},
     "output_type": "display_data"
    }
   ],
   "source": [
    "model.summary()"
   ]
  },
  {
   "cell_type": "markdown",
   "metadata": {},
   "source": [
    "##### __[Click here to Explore Relu Activation function](relu.ipynb)__"
   ]
  },
  {
   "cell_type": "markdown",
   "metadata": {},
   "source": [
    "#### Configure model"
   ]
  },
  {
   "cell_type": "code",
   "execution_count": 27,
   "metadata": {},
   "outputs": [],
   "source": [
    "model.compile(loss='categorical_crossentropy', optimizer=SGD(learning_rate=0.1), metrics=['accuracy'])"
   ]
  },
  {
   "cell_type": "markdown",
   "metadata": {},
   "source": [
    "##### __[Click here to Explore Cross Entropy ](cross_entropy.ipynb)__"
   ]
  },
  {
   "cell_type": "markdown",
   "metadata": {},
   "source": [
    "#### Train!"
   ]
  },
  {
   "cell_type": "code",
   "execution_count": 30,
   "metadata": {},
   "outputs": [
    {
     "name": "stdout",
     "output_type": "stream",
     "text": [
      "Epoch 1/20\n",
      "\u001b[1m469/469\u001b[0m \u001b[32m━━━━━━━━━━━━━━━━━━━━\u001b[0m\u001b[37m\u001b[0m \u001b[1m2s\u001b[0m 3ms/step - accuracy: 0.7669 - loss: 0.8166 - val_accuracy: 0.9261 - val_loss: 0.2481\n",
      "Epoch 2/20\n",
      "\u001b[1m469/469\u001b[0m \u001b[32m━━━━━━━━━━━━━━━━━━━━\u001b[0m\u001b[37m\u001b[0m \u001b[1m1s\u001b[0m 3ms/step - accuracy: 0.9297 - loss: 0.2450 - val_accuracy: 0.9471 - val_loss: 0.1857\n",
      "Epoch 3/20\n",
      "\u001b[1m469/469\u001b[0m \u001b[32m━━━━━━━━━━━━━━━━━━━━\u001b[0m\u001b[37m\u001b[0m \u001b[1m1s\u001b[0m 3ms/step - accuracy: 0.9472 - loss: 0.1822 - val_accuracy: 0.9568 - val_loss: 0.1506\n",
      "Epoch 4/20\n",
      "\u001b[1m469/469\u001b[0m \u001b[32m━━━━━━━━━━━━━━━━━━━━\u001b[0m\u001b[37m\u001b[0m \u001b[1m1s\u001b[0m 3ms/step - accuracy: 0.9573 - loss: 0.1481 - val_accuracy: 0.9561 - val_loss: 0.1492\n",
      "Epoch 5/20\n",
      "\u001b[1m469/469\u001b[0m \u001b[32m━━━━━━━━━━━━━━━━━━━━\u001b[0m\u001b[37m\u001b[0m \u001b[1m1s\u001b[0m 3ms/step - accuracy: 0.9659 - loss: 0.1205 - val_accuracy: 0.9616 - val_loss: 0.1268\n",
      "Epoch 6/20\n",
      "\u001b[1m469/469\u001b[0m \u001b[32m━━━━━━━━━━━━━━━━━━━━\u001b[0m\u001b[37m\u001b[0m \u001b[1m1s\u001b[0m 3ms/step - accuracy: 0.9675 - loss: 0.1078 - val_accuracy: 0.9652 - val_loss: 0.1147\n",
      "Epoch 7/20\n",
      "\u001b[1m469/469\u001b[0m \u001b[32m━━━━━━━━━━━━━━━━━━━━\u001b[0m\u001b[37m\u001b[0m \u001b[1m1s\u001b[0m 3ms/step - accuracy: 0.9716 - loss: 0.0933 - val_accuracy: 0.9676 - val_loss: 0.1059\n",
      "Epoch 8/20\n",
      "\u001b[1m469/469\u001b[0m \u001b[32m━━━━━━━━━━━━━━━━━━━━\u001b[0m\u001b[37m\u001b[0m \u001b[1m1s\u001b[0m 3ms/step - accuracy: 0.9756 - loss: 0.0838 - val_accuracy: 0.9666 - val_loss: 0.1067\n",
      "Epoch 9/20\n",
      "\u001b[1m469/469\u001b[0m \u001b[32m━━━━━━━━━━━━━━━━━━━━\u001b[0m\u001b[37m\u001b[0m \u001b[1m1s\u001b[0m 3ms/step - accuracy: 0.9800 - loss: 0.0711 - val_accuracy: 0.9699 - val_loss: 0.0959\n",
      "Epoch 10/20\n",
      "\u001b[1m469/469\u001b[0m \u001b[32m━━━━━━━━━━━━━━━━━━━━\u001b[0m\u001b[37m\u001b[0m \u001b[1m1s\u001b[0m 3ms/step - accuracy: 0.9789 - loss: 0.0684 - val_accuracy: 0.9688 - val_loss: 0.1010\n",
      "Epoch 11/20\n",
      "\u001b[1m469/469\u001b[0m \u001b[32m━━━━━━━━━━━━━━━━━━━━\u001b[0m\u001b[37m\u001b[0m \u001b[1m1s\u001b[0m 3ms/step - accuracy: 0.9810 - loss: 0.0658 - val_accuracy: 0.9730 - val_loss: 0.0897\n",
      "Epoch 12/20\n",
      "\u001b[1m469/469\u001b[0m \u001b[32m━━━━━━━━━━━━━━━━━━━━\u001b[0m\u001b[37m\u001b[0m \u001b[1m1s\u001b[0m 3ms/step - accuracy: 0.9830 - loss: 0.0585 - val_accuracy: 0.9730 - val_loss: 0.0883\n",
      "Epoch 13/20\n",
      "\u001b[1m469/469\u001b[0m \u001b[32m━━━━━━━━━━━━━━━━━━━━\u001b[0m\u001b[37m\u001b[0m \u001b[1m1s\u001b[0m 3ms/step - accuracy: 0.9846 - loss: 0.0541 - val_accuracy: 0.9687 - val_loss: 0.1053\n",
      "Epoch 14/20\n",
      "\u001b[1m469/469\u001b[0m \u001b[32m━━━━━━━━━━━━━━━━━━━━\u001b[0m\u001b[37m\u001b[0m \u001b[1m1s\u001b[0m 3ms/step - accuracy: 0.9861 - loss: 0.0487 - val_accuracy: 0.9730 - val_loss: 0.0877\n",
      "Epoch 15/20\n",
      "\u001b[1m469/469\u001b[0m \u001b[32m━━━━━━━━━━━━━━━━━━━━\u001b[0m\u001b[37m\u001b[0m \u001b[1m1s\u001b[0m 3ms/step - accuracy: 0.9868 - loss: 0.0438 - val_accuracy: 0.9745 - val_loss: 0.0828\n",
      "Epoch 16/20\n",
      "\u001b[1m469/469\u001b[0m \u001b[32m━━━━━━━━━━━━━━━━━━━━\u001b[0m\u001b[37m\u001b[0m \u001b[1m1s\u001b[0m 3ms/step - accuracy: 0.9869 - loss: 0.0431 - val_accuracy: 0.9744 - val_loss: 0.0862\n",
      "Epoch 17/20\n",
      "\u001b[1m469/469\u001b[0m \u001b[32m━━━━━━━━━━━━━━━━━━━━\u001b[0m\u001b[37m\u001b[0m \u001b[1m1s\u001b[0m 3ms/step - accuracy: 0.9897 - loss: 0.0361 - val_accuracy: 0.9747 - val_loss: 0.0867\n",
      "Epoch 18/20\n",
      "\u001b[1m469/469\u001b[0m \u001b[32m━━━━━━━━━━━━━━━━━━━━\u001b[0m\u001b[37m\u001b[0m \u001b[1m1s\u001b[0m 3ms/step - accuracy: 0.9914 - loss: 0.0336 - val_accuracy: 0.9767 - val_loss: 0.0786\n",
      "Epoch 19/20\n",
      "\u001b[1m469/469\u001b[0m \u001b[32m━━━━━━━━━━━━━━━━━━━━\u001b[0m\u001b[37m\u001b[0m \u001b[1m1s\u001b[0m 3ms/step - accuracy: 0.9922 - loss: 0.0309 - val_accuracy: 0.9755 - val_loss: 0.0825\n",
      "Epoch 20/20\n",
      "\u001b[1m469/469\u001b[0m \u001b[32m━━━━━━━━━━━━━━━━━━━━\u001b[0m\u001b[37m\u001b[0m \u001b[1m1s\u001b[0m 3ms/step - accuracy: 0.9929 - loss: 0.0268 - val_accuracy: 0.9725 - val_loss: 0.0906\n"
     ]
    }
   ],
   "source": [
    "history=model.fit(X_train, y_train, batch_size=128, epochs=20, verbose=1, validation_data=(X_valid, y_valid))"
   ]
  },
  {
   "cell_type": "code",
   "execution_count": 31,
   "metadata": {},
   "outputs": [],
   "source": [
    "test_case =X_valid[:1,:]"
   ]
  },
  {
   "cell_type": "code",
   "execution_count": 32,
   "metadata": {},
   "outputs": [
    {
     "data": {
      "text/plain": [
       "(1, 784)"
      ]
     },
     "execution_count": 32,
     "metadata": {},
     "output_type": "execute_result"
    }
   ],
   "source": [
    "test_case.shape"
   ]
  },
  {
   "cell_type": "code",
   "execution_count": 33,
   "metadata": {},
   "outputs": [
    {
     "name": "stdout",
     "output_type": "stream",
     "text": [
      "\u001b[1m1/1\u001b[0m \u001b[32m━━━━━━━━━━━━━━━━━━━━\u001b[0m\u001b[37m\u001b[0m \u001b[1m0s\u001b[0m 71ms/step\n"
     ]
    }
   ],
   "source": [
    "predicted_digit=model.predict(test_case)"
   ]
  },
  {
   "cell_type": "code",
   "execution_count": 34,
   "metadata": {},
   "outputs": [
    {
     "data": {
      "text/plain": [
       "array([[3.5385412e-08, 4.0006789e-08, 2.9574392e-06, 3.3099743e-04,\n",
       "        1.4058502e-11, 7.6483467e-08, 9.5340906e-16, 9.9966347e-01,\n",
       "        3.6578019e-08, 2.3669172e-06]], dtype=float32)"
      ]
     },
     "execution_count": 34,
     "metadata": {},
     "output_type": "execute_result"
    }
   ],
   "source": [
    "predicted_digit  # This is an array with probabilities for each digit"
   ]
  },
  {
   "cell_type": "code",
   "execution_count": 35,
   "metadata": {},
   "outputs": [
    {
     "data": {
      "text/plain": [
       "array([7], dtype=int64)"
      ]
     },
     "execution_count": 35,
     "metadata": {},
     "output_type": "execute_result"
    }
   ],
   "source": [
    "import numpy as np\n",
    "np.argmax(predicted_digit,axis=1)"
   ]
  },
  {
   "cell_type": "code",
   "execution_count": 36,
   "metadata": {},
   "outputs": [
    {
     "name": "stdout",
     "output_type": "stream",
     "text": [
      "\u001b[1m313/313\u001b[0m \u001b[32m━━━━━━━━━━━━━━━━━━━━\u001b[0m\u001b[37m\u001b[0m \u001b[1m1s\u001b[0m 2ms/step - accuracy: 0.9700 - loss: 0.1053\n"
     ]
    },
    {
     "data": {
      "text/plain": [
       "[0.09056232124567032, 0.9725000262260437]"
      ]
     },
     "execution_count": 36,
     "metadata": {},
     "output_type": "execute_result"
    }
   ],
   "source": [
    "model.evaluate(X_valid, y_valid)"
   ]
  },
  {
   "cell_type": "code",
   "execution_count": 37,
   "metadata": {},
   "outputs": [
    {
     "name": "stdout",
     "output_type": "stream",
     "text": [
      "dict_keys(['accuracy', 'loss', 'val_accuracy', 'val_loss'])\n"
     ]
    }
   ],
   "source": [
    "print(history.history.keys())"
   ]
  },
  {
   "cell_type": "code",
   "execution_count": 38,
   "metadata": {},
   "outputs": [
    {
     "data": {
      "image/png": "[encoded data removed]",
      "text/plain": [
       "<Figure size 640x480 with 1 Axes>"
      ]
     },
     "metadata": {},
     "output_type": "display_data"
    },
    {
     "data": {
      "image/png": "[encoded data removed]",
      "text/plain": [
       "<Figure size 640x480 with 1 Axes>"
      ]
     },
     "metadata": {},
     "output_type": "display_data"
    }
   ],
   "source": [
    "from matplotlib import pyplot as plt\n",
    "# summarize history for accuracy\n",
    "plt.plot(history.history['accuracy'])\n",
    "plt.plot(history.history['val_accuracy'])\n",
    "plt.title('model accuracy')\n",
    "plt.ylabel('accuracy')\n",
    "plt.xlabel('epoch')\n",
    "plt.legend(['train', 'test'], loc='upper left')\n",
    "plt.show()\n",
    "# summarize history for loss\n",
    "plt.plot(history.history['loss'])\n",
    "plt.plot(history.history['val_loss'])\n",
    "plt.title('model loss')\n",
    "plt.ylabel('loss')\n",
    "plt.xlabel('epoch')\n",
    "plt.legend(['train', 'test'], loc='upper left')\n",
    "plt.show()"
   ]
  },
  {
   "cell_type": "code",
   "execution_count": 39,
   "metadata": {},
   "outputs": [],
   "source": [
    "# from tensorflow.keras.datasets import mnist\n",
    "# from tensorflow.keras.models import Sequential\n",
    "# from tensorflow.keras.layers import Dense\n",
    "# from tensorflow.keras.utils import to_categorical\n",
    "# from tensorflow.keras.optimizers import SGD\n",
    "\n",
    "# # Load data\n",
    "# (X_train, y_train), (X_valid, y_valid) = mnist.load_data()\n",
    "\n",
    "# # Reshape and normalize input data\n",
    "# X_train = X_train.reshape(60000, 784).astype('float32') / 255\n",
    "# X_valid = X_valid.reshape(10000, 784).astype('float32') / 255\n",
    "\n",
    "# # One-hot encode the labels\n",
    "# n_classes = 10\n",
    "# y_train = to_categorical(y_train, n_classes)\n",
    "# y_valid = to_categorical(y_valid, n_classes)\n",
    "\n",
    "# # Verify shape of the labels\n",
    "# print(f\"y_train shape: {y_train.shape}\")\n",
    "# print(f\"y_valid shape: {y_valid.shape}\")\n",
    "\n",
    "# # Define the model\n",
    "# model = Sequential([\n",
    "#     Dense(64, activation='relu', input_shape=(784,)),\n",
    "#     Dense(64, activation='relu'),\n",
    "#     Dense(10, activation='softmax')\n",
    "# ])\n",
    "\n",
    "# # Compile the model\n",
    "# model.compile(loss='categorical_crossentropy', optimizer=SGD(learning_rate=0.1), metrics=['accuracy'])\n",
    "\n",
    "# # Train the model\n",
    "# history = model.fit(X_train, y_train, batch_size=128, epochs=20, verbose=1, validation_data=(X_valid, y_valid))\n"
   ]
  },
  {
   "cell_type": "code",
   "execution_count": null,
   "metadata": {},
   "outputs": [],
   "source": []
  }
 ],
 "metadata": {
  "kernelspec": {
   "display_name": "Python [conda env:base] *",
   "language": "python",
   "name": "conda-base-py"
  },
  "language_info": {
   "codemirror_mode": {
    "name": "ipython",
    "version": 3
   },
   "file_extension": ".py",
   "mimetype": "text/x-python",
   "name": "python",
   "nbconvert_exporter": "python",
   "pygments_lexer": "ipython3",
   "version": "3.12.7"
  }
 },
 "nbformat": 4,
 "nbformat_minor": 4
}
